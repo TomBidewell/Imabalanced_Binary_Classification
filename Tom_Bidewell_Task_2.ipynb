{
 "cells": [
  {
   "cell_type": "markdown",
   "id": "db2315f3",
   "metadata": {},
   "source": [
    "# Task 2 - Tom Bidewell"
   ]
  },
  {
   "cell_type": "markdown",
   "id": "a4c49c1f",
   "metadata": {},
   "source": [
    "<a id=\"0\"></a> <br>\n",
    "\n",
    " # Table of Contents  \n",
    "- [Introduction](#1)\n",
    "- [Imports](#2)\n",
    "- [Import Data](#3)\n",
    "- [Check and Join Data](#4)\n",
    "- [Clean the Data](#5)\n",
    "- [Exploratory Data Anlysis](#6)\n",
    "    - [Type Analysis](#7)\n",
    "    - [Numerical Data Analysis](#8)\n",
    "- [Models](#9)\n",
    "    - [PreProcessing](#10)\n",
    "    - [Training](#11)\n",
    "    - [Over Sampling](#12)\n",
    "    - [Under Sampling](#13)\n",
    "    - [Dimensionality Reduction](#14)\n",
    "        - [PCA](#15)\n",
    "        - [Kernel PCA](16)\n",
    "- [Model Evaluation](#17)\n",
    "    - [Metrics](#18)\n",
    "- [Conclusion](#19)"
   ]
  },
  {
   "cell_type": "markdown",
   "id": "904a07a3",
   "metadata": {},
   "source": [
    "<a id=\"1\"></a>\n",
    "# Introduction"
   ]
  },
  {
   "cell_type": "markdown",
   "id": "d38ce2be",
   "metadata": {},
   "source": [
    "Hi! I'm Tom Bidewell, a 3rd year Mathematics student at the University of Warwick. Thank you for considering my application. I've performed binary classification using Logistic Regression, XGBoost Classification and Decision Tree Classification models, training my models using 5 fold cross validation, maximising hyperparameters on the F1 macro score. I then explored the impact of different sampling and dimensionality reduction techniques, comparing results for multiple metrics. I've thoroughly enjoyed exploring this task and am looking forward to receiving feedback on my work and where improvements can be made. Kind regards, Tom"
   ]
  },
  {
   "cell_type": "markdown",
   "id": "1355695f",
   "metadata": {},
   "source": [
    "<a id=\"2\"></a>\n",
    "\n",
    "## Imports"
   ]
  },
  {
   "cell_type": "code",
   "execution_count": 79,
   "id": "0756d194",
   "metadata": {},
   "outputs": [],
   "source": [
    "import pandas as pd\n",
    "import numpy as np\n",
    "from sklearn.model_selection import train_test_split\n",
    "from sklearn.preprocessing import MinMaxScaler, OneHotEncoder, LabelEncoder\n",
    "from scipy import stats\n",
    "from scipy.stats import skew\n",
    "import matplotlib.pyplot as plt\n",
    "from sklearn.metrics import accuracy_score, roc_auc_score, f1_score\n",
    "from sklearn.pipeline import Pipeline\n",
    "import imblearn\n",
    "from imblearn.over_sampling import RandomOverSampler\n",
    "from imblearn.under_sampling import RandomUnderSampler\n",
    "from sklearn.linear_model import LogisticRegression\n",
    "from sklearn.model_selection import RepeatedStratifiedKFold\n",
    "from sklearn.model_selection import GridSearchCV\n",
    "from sklearn import metrics\n",
    "from sklearn.tree import DecisionTreeClassifier\n",
    "from xgboost import XGBClassifier\n",
    "from sklearn.decomposition import PCA\n",
    "from sklearn.decomposition import KernelPCA"
   ]
  },
  {
   "cell_type": "markdown",
   "id": "f8b98bba",
   "metadata": {},
   "source": [
    "<a id=\"3\"></a>\n",
    "\n",
    "## Import Data "
   ]
  },
  {
   "cell_type": "code",
   "execution_count": 34,
   "id": "b29aac34",
   "metadata": {},
   "outputs": [],
   "source": [
    "df_1 = pd.read_csv(\"/home/tom/3rd_Year/BMW/data/Task1_1.csv\", sep=';')\n",
    "df_2 = pd.read_csv(\"/home/tom/3rd_Year/BMW/data/Task1_2.csv\", sep=';')"
   ]
  },
  {
   "cell_type": "markdown",
   "id": "10192b57",
   "metadata": {},
   "source": [
    "There are unique identifiers (the \"ID\" columns) in each dataset. I will join the two dataframes on this identifier. First however, I need to check no rows have been duplicated. "
   ]
  },
  {
   "cell_type": "markdown",
   "id": "61427a47",
   "metadata": {},
   "source": [
    "<a id=\"4\"></a>\n",
    "\n",
    "\n",
    "### Check and Join Data"
   ]
  },
  {
   "cell_type": "code",
   "execution_count": 35,
   "id": "b98ff226",
   "metadata": {},
   "outputs": [
    {
     "data": {
      "text/plain": [
       "ID\n",
       "3553    4\n",
       "118     4\n",
       "3583    3\n",
       "771     3\n",
       "352     3\n",
       "       ..\n",
       "1297    1\n",
       "1298    1\n",
       "1299    1\n",
       "1300    1\n",
       "3699    1\n",
       "Name: count, Length: 3700, dtype: int64"
      ]
     },
     "execution_count": 35,
     "metadata": {},
     "output_type": "execute_result"
    }
   ],
   "source": [
    "df_1.ID.value_counts()"
   ]
  },
  {
   "cell_type": "code",
   "execution_count": 36,
   "id": "3855f7c6",
   "metadata": {},
   "outputs": [
    {
     "data": {
      "text/plain": [
       "ID\n",
       "1969    4\n",
       "305     4\n",
       "3190    3\n",
       "2189    3\n",
       "2608    3\n",
       "       ..\n",
       "1296    1\n",
       "1297    1\n",
       "1298    1\n",
       "1299    1\n",
       "3699    1\n",
       "Name: count, Length: 3700, dtype: int64"
      ]
     },
     "execution_count": 36,
     "metadata": {},
     "output_type": "execute_result"
    }
   ],
   "source": [
    "df_2.ID.value_counts()"
   ]
  },
  {
   "cell_type": "markdown",
   "id": "5b1dfdd8",
   "metadata": {},
   "source": [
    "As the \"ID\" column represents a unique identifier for each row, having multiple counts of the IDs means I have duplicates in the data which need to be removed before joining."
   ]
  },
  {
   "cell_type": "code",
   "execution_count": 37,
   "id": "e429fe55",
   "metadata": {},
   "outputs": [],
   "source": [
    "df_1 = df_1.drop_duplicates()"
   ]
  },
  {
   "cell_type": "code",
   "execution_count": 38,
   "id": "39a8411a",
   "metadata": {},
   "outputs": [],
   "source": [
    "df_2 = df_2.drop_duplicates()"
   ]
  },
  {
   "cell_type": "code",
   "execution_count": 39,
   "id": "2f626aab",
   "metadata": {},
   "outputs": [],
   "source": [
    "df = df_1.merge(df_2, on = 'ID', how = 'left')"
   ]
  },
  {
   "cell_type": "markdown",
   "id": "0387efa2",
   "metadata": {},
   "source": [
    "Since the data is small (3700 rows) and the ID is unique to each row in each dataset, I could use any join (inner, left, right, outer). I chose a left join because it is more efficient than an inner join but due to our data's size, this is not really a concern here. "
   ]
  },
  {
   "cell_type": "markdown",
   "id": "09621f20",
   "metadata": {},
   "source": [
    "<a id=\"5\"></a>\n",
    "\n",
    "## Clean the Data"
   ]
  },
  {
   "cell_type": "markdown",
   "id": "5d4a7167",
   "metadata": {},
   "source": [
    "Now I've merged the data, I need to drop the ID column."
   ]
  },
  {
   "cell_type": "code",
   "execution_count": 40,
   "id": "72418570",
   "metadata": {},
   "outputs": [],
   "source": [
    "# get rid of ID\n",
    "df = df.drop(columns = ['ID'])"
   ]
  },
  {
   "cell_type": "markdown",
   "id": "ed7c3197",
   "metadata": {},
   "source": [
    "I need to check for null values in our data."
   ]
  },
  {
   "cell_type": "code",
   "execution_count": 41,
   "id": "3a161c19",
   "metadata": {},
   "outputs": [
    {
     "data": {
      "text/plain": [
       "UKL         0\n",
       "GJAH       64\n",
       "ZIK      2145\n",
       "HUI         0\n",
       "ERZ        64\n",
       "CDx         0\n",
       "BJZHD      66\n",
       "NKJUD     100\n",
       "LPI       100\n",
       "BJKG       66\n",
       "POUG        0\n",
       "TRE         0\n",
       "ZUB         0\n",
       "VOL         0\n",
       "UIO        39\n",
       "VBNM        0\n",
       "Type        0\n",
       "OIN        39\n",
       "dtype: int64"
      ]
     },
     "execution_count": 41,
     "metadata": {},
     "output_type": "execute_result"
    }
   ],
   "source": [
    "df.isnull().sum(axis = 0)"
   ]
  },
  {
   "cell_type": "markdown",
   "id": "76d11519",
   "metadata": {},
   "source": [
    "Interestingly, we see the ZIK has a very high number of null values (roughly 58% of the column). Removing these would reduce our data size too much and since ZIK is categorical data, I will use the null values in the ZIK column as their own category."
   ]
  },
  {
   "cell_type": "markdown",
   "id": "a8f2e950",
   "metadata": {},
   "source": [
    "For the rest of the categorical data, given the number of null values is small for each column, I will remove these from the dataset."
   ]
  },
  {
   "cell_type": "markdown",
   "id": "4f5cf427",
   "metadata": {},
   "source": [
    "The numerical data does not contain too many null values and so I will replace these by the mean of that column. "
   ]
  },
  {
   "cell_type": "markdown",
   "id": "5a9a9b82",
   "metadata": {},
   "source": [
    "It's worth noting that UKL and POUG are categorical data despite being respresented as integers (indicated by not having a decimal point)."
   ]
  },
  {
   "cell_type": "code",
   "execution_count": 42,
   "id": "1418737a",
   "metadata": {},
   "outputs": [],
   "source": [
    "# function to convert null values to a category \"NaN\" in the ZIK column\n",
    "\n",
    "def convert_zik_nan_to_label(x):\n",
    "    if pd.isnull(x) == True:\n",
    "        return \"NaN\"\n",
    "    else:\n",
    "        return x"
   ]
  },
  {
   "cell_type": "code",
   "execution_count": 43,
   "id": "e0072fcf",
   "metadata": {},
   "outputs": [],
   "source": [
    "df.ZIK = df.ZIK.apply(convert_zik_nan_to_label)  # convert null values in the ZIK columns to categories"
   ]
  },
  {
   "cell_type": "code",
   "execution_count": 44,
   "id": "d03cf6eb",
   "metadata": {},
   "outputs": [],
   "source": [
    "# create lists for the column names of numerical and categorical data respectively\n",
    "\n",
    "num_data = ['CDx', 'NKJUD', 'LPI', 'TRE', 'OIN']\n",
    "\n",
    "cat_data = [i for i in df.columns if i not in num_data]"
   ]
  },
  {
   "cell_type": "code",
   "execution_count": 45,
   "id": "fd146da2",
   "metadata": {},
   "outputs": [],
   "source": [
    "# replace the null values in the numerical data columns by the mean of that column\n",
    "\n",
    "df[num_data] = df[num_data].fillna(df[num_data].mean())"
   ]
  },
  {
   "cell_type": "code",
   "execution_count": 46,
   "id": "d4ac7eea",
   "metadata": {},
   "outputs": [],
   "source": [
    "# the remaining null values come from categorical data whichI decided to remove\n",
    "\n",
    "df = df.dropna()"
   ]
  },
  {
   "cell_type": "code",
   "execution_count": 47,
   "id": "e2a82399",
   "metadata": {},
   "outputs": [],
   "source": [
    "# to ensure the data is high quality, I will remove any outliers. I have taken an outlier to be a datapoint that is \n",
    "# outside of 3 standard deviations from the column's mean.\n",
    "\n",
    "df[num_data] = df[num_data][(np.abs(stats.zscore(df[num_data])) < 3).all(axis=1)]\n",
    "df = df.dropna()"
   ]
  },
  {
   "cell_type": "markdown",
   "id": "ec3c167e",
   "metadata": {},
   "source": [
    "<a id=\"6\"></a>\n",
    "\n",
    "\n",
    "## Exploratory Data Analysis "
   ]
  },
  {
   "cell_type": "markdown",
   "id": "ba95a1ad",
   "metadata": {},
   "source": [
    "<a id=\"7\"></a>\n",
    "\n",
    "## Type Analysis"
   ]
  },
  {
   "cell_type": "markdown",
   "id": "c4ee5a5f",
   "metadata": {},
   "source": [
    "Before exploring different models, I would like to explore quickly the labels."
   ]
  },
  {
   "cell_type": "code",
   "execution_count": 48,
   "id": "58a9b2ad",
   "metadata": {},
   "outputs": [
    {
     "data": {
      "text/plain": [
       "Type\n",
       "y    3168\n",
       "n     263\n",
       "Name: count, dtype: int64"
      ]
     },
     "execution_count": 48,
     "metadata": {},
     "output_type": "execute_result"
    }
   ],
   "source": [
    "df.Type.value_counts()"
   ]
  },
  {
   "cell_type": "code",
   "execution_count": 49,
   "id": "e61b1ef0",
   "metadata": {},
   "outputs": [
    {
     "data": {
      "text/plain": [
       "0.9233459632760128"
      ]
     },
     "execution_count": 49,
     "metadata": {},
     "output_type": "execute_result"
    }
   ],
   "source": [
    "df.Type.value_counts()['y'] / df.Type.value_counts().sum()"
   ]
  },
  {
   "cell_type": "markdown",
   "id": "395e311d",
   "metadata": {},
   "source": [
    "I can see here that I have an imbalanced datatset with roughly 92% of data being \"y\" and only 8% being \"n\". This will change how I procede with the models."
   ]
  },
  {
   "cell_type": "markdown",
   "id": "32d71889",
   "metadata": {},
   "source": [
    "<a id=\"8\"></a>\n",
    "\n",
    "\n",
    "## Numerical Data Analysis"
   ]
  },
  {
   "cell_type": "code",
   "execution_count": 50,
   "id": "5ba97608",
   "metadata": {
    "scrolled": false
   },
   "outputs": [
    {
     "data": {
      "image/png": "[encoded data removed]",
      "text/plain": [
       "<Figure size 640x480 with 4 Axes>"
      ]
     },
     "metadata": {},
     "output_type": "display_data"
    },
    {
     "data": {
      "image/png": "[encoded data removed]",
      "text/plain": [
       "<Figure size 325x200 with 1 Axes>"
      ]
     },
     "metadata": {},
     "output_type": "display_data"
    }
   ],
   "source": [
    "fig, ((ax1, ax2), (ax3, ax4)) = plt.subplots(2, 2)\n",
    "fig.suptitle('EDA of Numerical Columns')\n",
    "ax1.hist(df.LPI)\n",
    "ax1.set_title('LPI')\n",
    "\n",
    "ax2.hist(df.TRE)\n",
    "ax2.set_title('TRE')\n",
    "\n",
    "ax3.hist(df.OIN)\n",
    "ax3.set_title('OIN')\n",
    "\n",
    "ax4.hist(df.NKJUD)\n",
    "ax4.set_title('NKJUD')\n",
    "\n",
    "fig.tight_layout()\n",
    "plt.show()\n",
    "\n",
    "\n",
    "fig = plt.figure(figsize=(3.25, 2))\n",
    "plt.hist(df.CDx)\n",
    "plt.title(\"CDx\")\n",
    "plt.show()"
   ]
  },
  {
   "cell_type": "markdown",
   "id": "54bb6afe",
   "metadata": {},
   "source": [
    "It's worth noting here that all numerical data displays positive skew."
   ]
  },
  {
   "cell_type": "code",
   "execution_count": 51,
   "id": "ae0c1a9c",
   "metadata": {},
   "outputs": [
    {
     "name": "stdout",
     "output_type": "stream",
     "text": [
      "CDx  skew:  4.40161195549708\n",
      "NKJUD  skew:  0.6670649286820493\n",
      "LPI  skew:  0.6670649286820493\n",
      "TRE  skew:  1.7208012630708451\n",
      "OIN  skew:  0.8689058781206994\n"
     ]
    }
   ],
   "source": [
    "for col in num_data:\n",
    "    print(col, \" skew: \", skew(df[col]))\n"
   ]
  },
  {
   "cell_type": "markdown",
   "id": "7c067210",
   "metadata": {},
   "source": [
    "As expected from the graphs, all categories show positive skew with CDx being the most skewed and LPI and NKLUD the least."
   ]
  },
  {
   "cell_type": "markdown",
   "id": "47c41f74",
   "metadata": {},
   "source": [
    "This is important because it informs me that I need to use MinMax Normalisation rather than standard scalarisation. Standard scaling works best with normally distributed data and applying standard scaling to this data might result in sub-optimal performance. MinMax scaling, however, preserves the shape of the data and so will be used here.  "
   ]
  },
  {
   "cell_type": "markdown",
   "id": "e1b34b89",
   "metadata": {},
   "source": [
    "<a id=\"9\"></a>\n",
    "\n",
    "# Models"
   ]
  },
  {
   "cell_type": "markdown",
   "id": "dc5023db",
   "metadata": {},
   "source": [
    "For this binary classification task, I will use three models: Logistic Regression, XGBoost Classifier and DecisionTree Classifier. Each model's hyperparamters will be tuned using 5-fold cross-validation, maximising the F1 macro score. The macro F1 score takes the unweighted average of the F1 scores of each of the classes. The F1 score is defined as $$\\frac{\\textit{precision} \\times \\textit{recall}}{\\textit{precision} + \\textit{recall}}$$ where $$\\textit{Precision} = \\frac{\\textit{Number of True Positive}}{\\textit{Number of True Positives} + \\textit{Number of False Positives}}$$ i.e. the percentage of positive classifications the model gets correct.\n",
    "\n",
    "And $$\\textit{Recall} = \\frac{\\textit{Number of True Positive}}{\\textit{Number of True Positives} + \\textit{Number of False Negatives}}$$ i.e. the percentage of positively labelled data points the model correctly predicts.\n",
    "\n",
    "The F1 macro score treats each class equally and so is ideal for evaluating the models on imbalanced data. \n",
    "\n",
    "Later I compare models based off their Confusion Matrices. For this binary classification task, these will be a 2x2 matrix with the number of true/false positives and the number of true/false negatives in each of the 4 elements. This can be a good way to get an understanding of where and how many data points are being incorrectly predicted. \n",
    "\n",
    "I also evaluate each model's area under the receiver operating characteristic curve (ROC AUC). This is a curve of the true positive rate (same as the recall defined above) against the false negative rate (number of false positives over the sum of false positives and true negatives). The ideal area under this curve is 1 (the model accurately predicts every point) and so the closer this area is to 1, the better our model performs. \n",
    "\n",
    "I chose to tune my hyperparameters based on the F1 macro score rather than the ROC AUC because the ROC AUC can be misleading in imbalanced settings (ie.e appear good whilst misclassifying a large proportion of the minority class). This can be better detected by the F1 macro score.\n",
    "\n",
    "To counteract the imbalance of the data, I also explore other techniques to improve performance. I investigate the impact of over and under sampling the data. Over sampling randomly creates minority class datapoints in the training data similar to those already there whilst under sampling randomly deletes majority class datapoints from the data, both with the hope that more balanced data will lead to better results.\n",
    "\n",
    "In addition to this, I also explore dimensionality reduction as one hot encoding categorical data leads to high dimensional sparse data. I explored linear methods (such as PCA) as well as touching upon non-linear methods (Kernel PCA)."
   ]
  },
  {
   "cell_type": "markdown",
   "id": "9a47a3ac",
   "metadata": {},
   "source": [
    "I now separate the gold classes from the rest of the data and split into 80% for training data and 20% for test data."
   ]
  },
  {
   "cell_type": "code",
   "execution_count": 52,
   "id": "2b8cf00b",
   "metadata": {},
   "outputs": [],
   "source": [
    "X = df.drop(columns = ['Type'])\n",
    "y = df.Type\n",
    "\n",
    "cat_data.remove(\"Type\")  # remove Type from the categorical data as we don't want it in one hot encoding"
   ]
  },
  {
   "cell_type": "code",
   "execution_count": 53,
   "id": "67498b8a",
   "metadata": {},
   "outputs": [],
   "source": [
    "X_train, X_test, y_train, y_test = train_test_split(X, y, test_size = .2, random_state = 42)"
   ]
  },
  {
   "cell_type": "markdown",
   "id": "ecc7874f",
   "metadata": {},
   "source": [
    "<a id=\"10\"></a>\n",
    "\n",
    "## Preprocessing"
   ]
  },
  {
   "cell_type": "markdown",
   "id": "755093c7",
   "metadata": {},
   "source": [
    "Before feeding the data into the models, I need to preprocess it."
   ]
  },
  {
   "cell_type": "code",
   "execution_count": 54,
   "id": "6e640442",
   "metadata": {},
   "outputs": [
    {
     "name": "stdout",
     "output_type": "stream",
     "text": [
      "LPI Mean:  1580431.4194112504\n",
      "TRE Mean:  3.2148615563975516\n"
     ]
    }
   ],
   "source": [
    "print(\"LPI Mean: \", df.LPI.mean())\n",
    "print(\"TRE Mean: \", df.TRE.mean())"
   ]
  },
  {
   "cell_type": "markdown",
   "id": "17b8106d",
   "metadata": {},
   "source": [
    "Firstly, there is a large range in values for the numerical data. The \"LPI\" column, for example, has a mean of 15 80 431.5 whilst the \"TRE\" column has a mean of 3.2. This wide range of numerical values will lead to poor model performance and so I will normalise each column using MinMax scaling. MinMax preserves the shape of the data whilst also transforming it to between 0 and 1. Note the MinMaxScaler class is not fitted on the test data, only the training data, this prevents leakage into the test dataset that would impact results."
   ]
  },
  {
   "cell_type": "code",
   "execution_count": 55,
   "id": "49bc14f4",
   "metadata": {},
   "outputs": [],
   "source": [
    "minmax_train = MinMaxScaler()\n",
    "\n",
    "minmax_train.fit(X[num_data])\n",
    "\n",
    "X_train[num_data] = minmax_train.transform(X_train[num_data])\n",
    "X_test[num_data] = minmax_train.transform(X_test[num_data])"
   ]
  },
  {
   "cell_type": "markdown",
   "id": "f6ff7932",
   "metadata": {},
   "source": [
    "The categorical data needs to be converted to numerical data before being fed into my models. To do this, I will use One Hot Encoding (OHE). For an indivdual column, this creates an array of 0's with the number of columns the same as the number of unique categories of that column. For each row (or datapoint), a 1 is placed in the column corresponding to the category of that datapoint. This is repeated for each column, creating a high dimensional sparse matrix which can be fed into the models. Note, as with the MinMaxScaler, the OneHotEncoder class is not fitted on the test data, only the training data."
   ]
  },
  {
   "cell_type": "code",
   "execution_count": 56,
   "id": "c3698211",
   "metadata": {},
   "outputs": [],
   "source": [
    "ohe_train = OneHotEncoder(handle_unknown = 'ignore')\n",
    "\n",
    "ohe_train.fit(X_train[cat_data])\n",
    "\n",
    "ohe_array_train = ohe_train.transform(X_train[cat_data])\n",
    "\n",
    "X_ohe_train = pd.DataFrame(ohe_array_train.toarray(), index = X_train.index)\n",
    "\n",
    "X_other_cols_train = X_train.drop(columns=cat_data)\n",
    "\n",
    "X_train = pd.concat([X_other_cols_train, X_ohe_train], axis=1)\n",
    "\n",
    "X_train.columns = X_train.columns.astype(str)"
   ]
  },
  {
   "cell_type": "code",
   "execution_count": 57,
   "id": "7e95c808",
   "metadata": {},
   "outputs": [],
   "source": [
    "ohe_array_test = ohe_train.transform(X_test[cat_data])\n",
    "\n",
    "X_ohe_test = pd.DataFrame(ohe_array_test.toarray(), index = X_test.index)\n",
    "\n",
    "X_other_cols_test = X_test.drop(columns=cat_data)\n",
    "\n",
    "X_test = pd.concat([X_other_cols_test, X_ohe_test], axis=1)\n",
    "\n",
    "X_test.columns = X_test.columns.astype(str)"
   ]
  },
  {
   "cell_type": "markdown",
   "id": "721a80c6",
   "metadata": {},
   "source": [
    "To better process the Type values, I will convert these to a binary representation: 1 - y, 0 - n"
   ]
  },
  {
   "cell_type": "code",
   "execution_count": 58,
   "id": "a5122b0c",
   "metadata": {},
   "outputs": [],
   "source": [
    "label_encode_train = LabelEncoder()\n",
    "\n",
    "label_encode_train.fit(y_train)\n",
    "\n",
    "y_train = label_encode_train.transform(y_train)\n",
    "y_test = label_encode_train.transform(y_test)"
   ]
  },
  {
   "cell_type": "markdown",
   "id": "b6b3fc14",
   "metadata": {},
   "source": [
    "<a id=\"11\"></a>\n",
    "\n",
    "## Training"
   ]
  },
  {
   "cell_type": "markdown",
   "id": "dac3689a",
   "metadata": {},
   "source": [
    "Below are two functions that perform 5-fold cross validation on the train set, tuning the huperparameters on the F1 macro score (discussed above). The \"model_evaluation\" function outputs a dictionary containing, for each Logistic Regression, XGBoost Classifier and DecisionTree Classifier, the parameters making up the best model and the predictions from that model. "
   ]
  },
  {
   "cell_type": "code",
   "execution_count": 68,
   "id": "ca4769f3",
   "metadata": {},
   "outputs": [],
   "source": [
    "def cross_validate_model(model, parameters, X_train, y_train, X_test):\n",
    "        \n",
    "    # set up the cross validation for the specified model\n",
    "    \n",
    "    grid_search = GridSearchCV(estimator = model,  \n",
    "                           param_grid = parameters,\n",
    "                           scoring = 'f1_macro',\n",
    "                           cv = 5,\n",
    "                           verbose=0)\n",
    "    \n",
    "    # fit this grid search \n",
    "    \n",
    "    grid_search.fit(X_train, y_train)\n",
    "    \n",
    "    # define and train the best model from the grid_search\n",
    "    \n",
    "    best_model = grid_search.best_estimator_\n",
    "    best_model.fit(X_train, y_train)\n",
    "    \n",
    "    # get the best predictions from the best model\n",
    "    \n",
    "    \n",
    "    y_pred  = best_model.predict(X_test)\n",
    "    \n",
    "    \n",
    "    return grid_search.best_params_, y_pred\n",
    "    "
   ]
  },
  {
   "cell_type": "code",
   "execution_count": 69,
   "id": "dfe42fca",
   "metadata": {},
   "outputs": [],
   "source": [
    "def model_evaluation(X_train, y_train, X_test):\n",
    "    \n",
    "    # This is a function that performs cross validation hyperparameter tuning on a \n",
    "    # Logistic Regression Model, XGBoost Classifier and Decision Tree Model. \n",
    "    # I take the best hyparameters from each model that maximises the f1_macro score.\n",
    "    # I output these parameters as well as the corresponding models predictions in a dictionary\n",
    "    \n",
    "    output_dictionary = {}\n",
    "    \n",
    "    best_model_dict = {}\n",
    "    \n",
    "    best_predictions_dict = {}\n",
    "        \n",
    "    \n",
    "    # Logistic Regression\n",
    "    \n",
    "    # define parameters to test\n",
    "    \n",
    "    log_reg_parameters = [\n",
    "      {'penalty': ['l1'], 'C':[0.01,1,5,10], 'class_weight': ['balanced', None], 'solver': [ 'liblinear']},\n",
    "      {'penalty': ['l2'], 'C':[0.01,1,5,10], 'class_weight': ['balanced', None], 'solver': ['lbfgs', 'liblinear']},\n",
    "      {'penalty': [None], 'solver': ['lbfgs']}\n",
    "     ]\n",
    "    \n",
    "    # max number of iterations set high so that all the models converge\n",
    "    # lbfgs sometimes resulted in non-convergence in the default 100 iterations\n",
    "    \n",
    "    log_reg_model = LogisticRegression(max_iter = 5000)\n",
    "    \n",
    "    best_params_log_reg, y_pred_log_reg = cross_validate_model(log_reg_model, log_reg_parameters,\n",
    "                                                                X_train, y_train, \n",
    "                                                               X_test)\n",
    "    \n",
    "    best_model_dict['log_reg'] = best_params_log_reg\n",
    "    best_predictions_dict['log_reg'] = y_pred_log_reg\n",
    "    \n",
    "    \n",
    "    # XGBoost Classifier\n",
    "    \n",
    "    # define XGBoost parameters\n",
    "    \n",
    "    xgb_parameters = [\n",
    "        {'max_depth': [5, 10, 25, 50, 100],\n",
    "        'learning_rate': [1, 0.1, 0.01],\n",
    "        'scale_pos_weight': [1, 50, 100]\n",
    "        }\n",
    "    ]\n",
    "\n",
    "\n",
    "    best_params_xgb, y_pred_xgb = cross_validate_model(XGBClassifier(), xgb_parameters,\n",
    "                                                                                X_train, y_train,\n",
    "                                                                                X_test)\n",
    "    best_model_dict['xgb'] = best_params_xgb\n",
    "    best_predictions_dict['xgb'] = y_pred_xgb\n",
    "    \n",
    "    # Decision Tree\n",
    "    \n",
    "    #define decision tree parameters\n",
    "    \n",
    "    dec_tree_parameters = [\n",
    "        { 'criterion': ['gini', 'entropy'],\n",
    "        'max_depth': [None, 2, 4, 6, 8, 10, 12],\n",
    "          'class_weight': ['balanced', None] \n",
    "        }\n",
    "    ]\n",
    "    \n",
    "    dec_tree = DecisionTreeClassifier()\n",
    "    \n",
    "    best_params_dec_tree, y_pred_dec_tree = cross_validate_model(dec_tree, dec_tree_parameters,\n",
    "                                                                                X_train, y_train,\n",
    "                                                                                X_test)\n",
    "    best_model_dict['dec_tree'] = best_params_dec_tree\n",
    "    best_predictions_dict['dec_tree'] = y_pred_dec_tree\n",
    "    \n",
    "    output_dictionary['best_model'] = best_model_dict\n",
    "    output_dictionary['best_predictions'] = best_predictions_dict\n",
    "    \n",
    "    return output_dictionary     "
   ]
  },
  {
   "cell_type": "code",
   "execution_count": 70,
   "id": "4335bb2b",
   "metadata": {},
   "outputs": [],
   "source": [
    "# run the model evaluation on the dataset given for the task\n",
    "\n",
    "original_data_dict = model_evaluation(X_train, y_train, X_test)"
   ]
  },
  {
   "cell_type": "markdown",
   "id": "5aef8d49",
   "metadata": {},
   "source": [
    "<a id=\"12\"></a>\n",
    "\n",
    "## Over Sampling"
   ]
  },
  {
   "cell_type": "code",
   "execution_count": 72,
   "id": "260d7899",
   "metadata": {},
   "outputs": [],
   "source": [
    "# over sample the data (randomly generating similar datapoints to the minority class)\n",
    "\n",
    "oversample = RandomOverSampler(sampling_strategy=0.5)\n",
    "X_train_over, y_train_over = oversample.fit_resample(X_train, y_train)"
   ]
  },
  {
   "cell_type": "code",
   "execution_count": 73,
   "id": "d8ba1e85",
   "metadata": {},
   "outputs": [],
   "source": [
    "# evaluating the models on this new data\n",
    "\n",
    "over_sampled_data_dict = model_evaluation(X_train_over, y_train_over, X_test)"
   ]
  },
  {
   "cell_type": "markdown",
   "id": "7a2752d5",
   "metadata": {},
   "source": [
    "<a id=\"13\"></a>\n",
    "\n",
    "\n",
    "## Under Sampling"
   ]
  },
  {
   "cell_type": "code",
   "execution_count": 74,
   "id": "06f903e0",
   "metadata": {},
   "outputs": [],
   "source": [
    "# under sample the data (randomly deleting data points from the minority class)\n",
    "\n",
    "undersample = RandomUnderSampler(sampling_strategy=0.5)\n",
    "X_train_under, y_train_under = undersample.fit_resample(X_train, y_train)"
   ]
  },
  {
   "cell_type": "code",
   "execution_count": 75,
   "id": "936640c9",
   "metadata": {},
   "outputs": [],
   "source": [
    "under_sampled_data_dict = model_evaluation(X_train_under, y_train_under, X_test)"
   ]
  },
  {
   "cell_type": "markdown",
   "id": "2c43fefb",
   "metadata": {},
   "source": [
    "<a id=\"14\"></a>\n",
    "\n",
    "\n",
    "## Dimensionality Reduction"
   ]
  },
  {
   "cell_type": "markdown",
   "id": "17cda64b",
   "metadata": {},
   "source": [
    "One hot encoding our data results in high dimensional sparse data which is not always the best for machine learning models. One method to combat this, is to reduce the dimension size of the data through various methods. Here I explore a linear method (PCA reduction) as well as discussing a non-linear one (Kernel PCA). The reduction hyperparameters are tuned in conjuction with the hyperparameters of the models."
   ]
  },
  {
   "cell_type": "code",
   "execution_count": 76,
   "id": "57f05310",
   "metadata": {},
   "outputs": [],
   "source": [
    "def cross_validate_model_dim_red(model, model_parameters, X_train, y_train, X_test, reduction, reduction_params):\n",
    "    \n",
    "    # define the pipeline to tune: first reduce the dimension size, then perform the classification\n",
    "    \n",
    "    pipeline = Pipeline([\n",
    "         (type(reduction).__name__, reduction),\n",
    "         (type(model).__name__ , model)\n",
    "         ])\n",
    "        \n",
    "    # the parameter names in a parameter grid for a pipeline require a specific title\n",
    "    # for a proces, p (which could be reduction or model in our case), parameters\n",
    "    # are named p__parameter. The parameters for each of the models and\n",
    "    # for the reduction have to be named in this convetion (code below) and are then\n",
    "    # combined into one parameter grid\n",
    "    \n",
    "    combined_params = []\n",
    "\n",
    "    for model_param in model_parameters:\n",
    "\n",
    "        combined_param = {}\n",
    "\n",
    "        for key, value in model_param.items():\n",
    "            combined_param[type(model).__name__ + \"__\" + key] = value\n",
    "\n",
    "        for red_param_key, red_param_value in reduction_params[0].items():\n",
    "            combined_param[type(reduction).__name__ + \"__\" + red_param_key] = red_param_value\n",
    "\n",
    "        combined_params.append(combined_param)\n",
    "        \n",
    "    # feed pipeline and combined parameter grid into the cross validation grid search\n",
    "    \n",
    "    grid_search = GridSearchCV(estimator = pipeline,  \n",
    "                           param_grid = combined_params,\n",
    "                           scoring = 'f1_macro',\n",
    "                           cv = 5,\n",
    "                           verbose=0)\n",
    "    # fit the grid search    \n",
    "    \n",
    "    grid_search.fit(X_train, y_train)\n",
    "    \n",
    "    # define and train the best model\n",
    "    \n",
    "    best_model = grid_search.best_estimator_\n",
    "    best_model.fit(X_train, y_train)\n",
    "    \n",
    "    # get the best predictions from this model \n",
    "    \n",
    "    y_pred  = best_model.predict(X_test)\n",
    "    \n",
    "    \n",
    "    return grid_search.best_params_, y_pred\n",
    "    "
   ]
  },
  {
   "cell_type": "code",
   "execution_count": 77,
   "id": "06d050a0",
   "metadata": {},
   "outputs": [],
   "source": [
    "def dim_reduced_model_evaluation(reduction, reduction_params, X_train, y_train, X_test):\n",
    "   \n",
    "    # This is a function that performs cross validation hyperparameter tuning on a \n",
    "    # dimenionsality reduction then Logistic Regression Model, XGBoost Classifier or Decision Tree Model. \n",
    "    # I take the best hyparameters from each reduction-model combination that maximises the f1_macro score.\n",
    "    # I output these parameters as well as the corresponding models predictions in a dictionary\n",
    "    \n",
    "    # very similar procedure to the non dimenionally reduced cross validation\n",
    "    \n",
    "    output_dictionary = {}\n",
    "    \n",
    "    best_model_dict = {}\n",
    "    \n",
    "    best_predictions_dict = {}\n",
    "            \n",
    "    # Logistic Regression\n",
    "    \n",
    "    log_reg_parameters = [\n",
    "      {'penalty': ['l1'], 'C':[0.01,1,5,10], 'class_weight': ['balanced', None], 'solver': [ 'liblinear']},\n",
    "      {'penalty': ['l2'], 'C':[0.01,1,5,10], 'class_weight': ['balanced', None], 'solver': ['lbfgs', 'liblinear']},\n",
    "      {'penalty': [None], 'solver': ['lbfgs']}\n",
    "     ]\n",
    "    \n",
    "    log_reg_model = LogisticRegression(max_iter = 5000)\n",
    "    \n",
    "    best_params_log_reg, y_pred_log_reg = cross_validate_model_dim_red(log_reg_model, log_reg_parameters,\n",
    "                                                                                                X_train, y_train, \n",
    "                                                                                                X_test, \n",
    "                                                                                               reduction, reduction_params)\n",
    "    best_model_dict['log_reg'] = best_params_log_reg\n",
    "    best_predictions_dict['log_reg'] = y_pred_log_reg\n",
    "    \n",
    "    \n",
    "    # XGBoost Classifier\n",
    "    \n",
    "    xgb_parameters = [\n",
    "        {'max_depth': [5, 10, 25, 50, 100],\n",
    "        'learning_rate': [1, 0.1, 0.01],\n",
    "        'scale_pos_weight': [1, 50, 100]\n",
    "        }\n",
    "    ]\n",
    "\n",
    "\n",
    "    best_params_xgb, y_pred_xgb = cross_validate_model_dim_red(XGBClassifier(), xgb_parameters,\n",
    "                                                                                X_train, y_train,\n",
    "                                                                                X_test,\n",
    "                                                                               reduction, reduction_params)\n",
    "    best_model_dict['xgb'] = best_params_xgb\n",
    "    best_predictions_dict['xgb'] = y_pred_xgb\n",
    "    \n",
    "    # Decision Tree\n",
    "    \n",
    "    dec_tree_parameters = [\n",
    "        { 'criterion': ['gini', 'entropy'],\n",
    "        'max_depth': [None, 2, 4, 6, 8, 10, 12],\n",
    "          'class_weight': ['balanced', None] \n",
    "        }\n",
    "    ]\n",
    "    \n",
    "    dec_tree = DecisionTreeClassifier()\n",
    "    \n",
    "    best_params_dec_tree, y_pred_dec_tree = cross_validate_model_dim_red(dec_tree, dec_tree_parameters,\n",
    "                                                                                X_train, y_train,\n",
    "                                                                                X_test, \n",
    "                                                                                reduction, reduction_params)\n",
    "    best_model_dict['dec_tree'] = best_params_dec_tree\n",
    "    best_predictions_dict['dec_tree'] = y_pred_dec_tree\n",
    "    \n",
    "    output_dictionary['best_model'] = best_model_dict\n",
    "    output_dictionary['best_predictions'] = best_predictions_dict\n",
    "    \n",
    "    return output_dictionary     \n",
    "    "
   ]
  },
  {
   "cell_type": "markdown",
   "id": "6d342186",
   "metadata": {},
   "source": [
    "<a id=\"15\"></a>\n",
    "\n",
    "## PCA"
   ]
  },
  {
   "cell_type": "markdown",
   "id": "7ebb4219",
   "metadata": {},
   "source": [
    "PCA reduction is a common linear reduction technique based on sinular value decomposition. New embeddings (known as Principal Components) are often thought of as linear combinations of the original features (hence being called a linear reduction). PCA also results in a \"variance\" score for each of the principal components which can be interpreted as that component's ability to explain the whole data set. Using these scores, we can determine the optimal number of components we need (a number high enough that enough of the data is encoded). "
   ]
  },
  {
   "cell_type": "code",
   "execution_count": 80,
   "id": "9219d833",
   "metadata": {},
   "outputs": [
    {
     "name": "stdout",
     "output_type": "stream",
     "text": [
      "Explained Variance for Number of Dimensions: \n",
      "           0\n",
      "0   0.149381\n",
      "1   0.096150\n",
      "2   0.076152\n",
      "3   0.066494\n",
      "4   0.063273\n",
      "5   0.059007\n",
      "6   0.033810\n",
      "7   0.030235\n",
      "8   0.026563\n",
      "9   0.024540\n",
      "10  0.020763\n",
      "11  0.019174\n",
      "12  0.017682\n",
      "13  0.016588\n",
      "14  0.014291\n",
      "\n",
      "Sum of variance for first 15 dimensions: \n",
      "0.7141031880344849\n"
     ]
    }
   ],
   "source": [
    "pca_test = PCA(n_components=15)\n",
    "pca_test.fit(X_train)\n",
    "\n",
    "explained_variance = pd.DataFrame(pca_test.explained_variance_ratio_)\n",
    "print(\"Explained Variance for Number of Dimensions: \")\n",
    "print(explained_variance)\n",
    "\n",
    "print(\"\\nSum of variance for first 15 dimensions: \")\n",
    "print(explained_variance[:15].sum()[0])"
   ]
  },
  {
   "cell_type": "markdown",
   "id": "e2ef4942",
   "metadata": {},
   "source": [
    "Above I have conducted a quick test to see how well PCA performs on this data. Unfortunately, the first 15 dimensions only equate to an explained variance of 0.71 (out of 1). Whilst this is OK, it is not ideal - one would ideally prefer an explained variance in the 0.9s. This suggests the data is not linear and so this technique will likely not improve the results. That said, it will be interesting to see if this is the case."
   ]
  },
  {
   "cell_type": "code",
   "execution_count": 81,
   "id": "413ef183",
   "metadata": {},
   "outputs": [],
   "source": [
    "pca = PCA()\n",
    "\n",
    "param_grid_pca = [{\n",
    " \"n_components\": [10, 15, 30, 50]\n",
    " }]\n",
    "\n",
    "pca_data_dict = dim_reduced_model_evaluation(pca, param_grid_pca, X_train, y_train, X_test)"
   ]
  },
  {
   "cell_type": "markdown",
   "id": "3639d2eb",
   "metadata": {},
   "source": [
    "<a id=\"16\"></a>\n",
    "\n",
    "## Kernel PCA"
   ]
  },
  {
   "cell_type": "markdown",
   "id": "78fff408",
   "metadata": {},
   "source": [
    "Based off the test PCA, it appears a non-linear reduction technique might be better suited for this data. Below is the code to implement this, however, I found that this took a disproportionately long amount of time. I tried other non-linear methods, even ones that are supposedly more efficient such as UMAP but they took an equally long amount of time. Any feedback on this would be greatly appreciated thank you. "
   ]
  },
  {
   "cell_type": "markdown",
   "id": "4e562665",
   "metadata": {},
   "source": [
    "<a id=\"17\"></a>\n",
    "\n",
    "## Model Evaluation\n"
   ]
  },
  {
   "cell_type": "code",
   "execution_count": 83,
   "id": "2d32c9b5",
   "metadata": {},
   "outputs": [],
   "source": [
    "dict_lists = {\n",
    "    'original': original_data_dict, \n",
    "    'over': over_sampled_data_dict, \n",
    "    'under': under_sampled_data_dict, \n",
    "    'pca': pca_data_dict, \n",
    "    #'kpca': kpca_data_dict\n",
    "}\n",
    "\n",
    "models = ['LogisticRegression', 'XGBoost', 'DecisionTree']\n"
   ]
  },
  {
   "cell_type": "code",
   "execution_count": 84,
   "id": "b08549fb",
   "metadata": {},
   "outputs": [],
   "source": [
    "f_1_score = {}\n",
    "\n",
    "for data_type, data in dict_lists.items():\n",
    "    \n",
    "    data_type_score = []\n",
    "    \n",
    "    for model, y_pred in data['best_predictions'].items():\n",
    "    \n",
    "        data_type_score.append(f1_score(y_test, y_pred, average='macro'))\n",
    "    f_1_score[data_type] = data_type_score\n",
    "\n"
   ]
  },
  {
   "cell_type": "code",
   "execution_count": 92,
   "id": "1a46c1ce",
   "metadata": {},
   "outputs": [
    {
     "data": {
      "image/png": "[encoded data removed]",
      "text/plain": [
       "<Figure size 600x400 with 1 Axes>"
      ]
     },
     "metadata": {},
     "output_type": "display_data"
    }
   ],
   "source": [
    "N = 3\n",
    "ind = np.arange(N)  \n",
    "width = 0.15\n",
    "\n",
    "plt.figure(figsize=(6,4))\n",
    "bar1 = plt.bar(ind, f_1_score['original'], width, color='r', label='Original') \n",
    "bar2 = plt.bar(ind + width, f_1_score['over'], width, color='g', label='Over Sampled') \n",
    "bar3 = plt.bar(ind + width*2, f_1_score['under'], width, color='b', label='Under Sampled')\n",
    "bar4 = plt.bar(ind + width*3, f_1_score['pca'], width, color='deepskyblue', label='PCA') \n",
    "#bar5 = plt.bar(ind + width*4, f_1_score['kpca'], width, color='mediumseagreen', label='Kernel PCA') \n",
    "\n",
    "plt.xlabel(\"Models\") \n",
    "plt.ylabel('F1 Macro Score') \n",
    "plt.title(\"F1 Macro Score for Imbalanced, Over and Under Sampled and PCA Reduced Data\") \n",
    "  \n",
    "plt.xticks(ind + width*1.5, ['Logistic Regression', 'XGBoost', 'Decision Tree']) \n",
    "plt.legend(loc='center left', bbox_to_anchor=(1, 0.5)) \n",
    "plt.show() "
   ]
  },
  {
   "cell_type": "markdown",
   "id": "da094547",
   "metadata": {},
   "source": [
    "Interestingly, I see that the majority of my methods did not improve the overall performance of the models. This could make sense for the sampling techniques. Over sampling creates new datapoints that might not be representative of the original data whilst under sampling massively reduces the size of the data, both decreasing the models' performances. Moreover, PCA reduction works best for data displaying linear behaviour. As the sum of the first 15 principal components' variances only added to roughly 0.7, it is not surprising that this model did not perform as well. It would be interesting to see how non-linear reduction techniques compare to these results. It is worth noting out that the only model that disagrees with this trend in the over sampled trained Logistic Regression model indicating this sampling technique leads to a better performing classification model."
   ]
  },
  {
   "cell_type": "code",
   "execution_count": 86,
   "id": "ff7fcebf",
   "metadata": {},
   "outputs": [],
   "source": [
    "roc_auc = {}\n",
    "\n",
    "for data_type, data in dict_lists.items():\n",
    "    \n",
    "    data_type_score = []\n",
    "    \n",
    "    for model, y_pred in data['best_predictions'].items():\n",
    "    \n",
    "        data_type_score.append(roc_auc_score(y_test, y_pred))\n",
    "    roc_auc[data_type] = data_type_score"
   ]
  },
  {
   "cell_type": "code",
   "execution_count": 90,
   "id": "2bf7417c",
   "metadata": {},
   "outputs": [
    {
     "data": {
      "image/png": "[encoded data removed]",
      "text/plain": [
       "<Figure size 600x400 with 1 Axes>"
      ]
     },
     "metadata": {},
     "output_type": "display_data"
    }
   ],
   "source": [
    "N = 3\n",
    "ind = np.arange(N)  \n",
    "width = 0.15\n",
    "\n",
    "plt.figure(figsize=(6,4))\n",
    "bar1 = plt.bar(ind, roc_auc['original'], width, color='r', label='Original') \n",
    "bar2 = plt.bar(ind + width, roc_auc['over'], width, color='g', label='Over Sampled') \n",
    "bar3 = plt.bar(ind + width*2, roc_auc['under'], width, color='b', label='Under Sampled')\n",
    "bar4 = plt.bar(ind + width*3, roc_auc['pca'], width, color='deepskyblue', label='PCA') \n",
    "#bar5 = plt.bar(ind + width*4, roc_auc['kpca'], width, color='mediumseagreen', label='Kernel PCA') \n",
    "\n",
    "\n",
    "plt.xlabel(\"Models\") \n",
    "plt.ylabel('ROC AUC Score') \n",
    "plt.title(\"ROC AUC Score for Imbalanced, Over and Under Sampled and PCA Reduced Data\") \n",
    "  \n",
    "plt.xticks(ind + width*1.5, ['Logistic Regression', 'XGBoost', 'Decision Tree']) \n",
    "plt.legend(loc='center left', bbox_to_anchor=(1, 0.5)) \n",
    "plt.show() "
   ]
  },
  {
   "cell_type": "markdown",
   "id": "7fa408d0",
   "metadata": {},
   "source": [
    "The first striking result from this graph is the increased ROC AUC score for the over sampled Logistic model. Looking back to the first graph, this would imply that training on the over sampled data results in a better performing classification model overall (including the minority class). That said, the sampling techniques consistently score comparably or worse than the original dataset for both the XGBoost and Decision Tree model and so are perhaps not as effective as shown with the Logistic model."
   ]
  },
  {
   "cell_type": "code",
   "execution_count": 88,
   "id": "1f52206f",
   "metadata": {},
   "outputs": [],
   "source": [
    "accuracy = {}\n",
    "\n",
    "for data_type, data in dict_lists.items():\n",
    "    \n",
    "    data_type_score = []\n",
    "    \n",
    "    for model, y_pred in data['best_predictions'].items():\n",
    "    \n",
    "        data_type_score.append(accuracy_score(y_test, y_pred))\n",
    "    accuracy[data_type] = data_type_score"
   ]
  },
  {
   "cell_type": "code",
   "execution_count": 91,
   "id": "34d8b80c",
   "metadata": {},
   "outputs": [
    {
     "data": {
      "image/png": "[encoded data removed]",
      "text/plain": [
       "<Figure size 640x480 with 1 Axes>"
      ]
     },
     "metadata": {},
     "output_type": "display_data"
    }
   ],
   "source": [
    "N = 3\n",
    "ind = np.arange(N)  \n",
    "width = 0.15\n",
    "  \n",
    "bar1 = plt.bar(ind, accuracy['original'], width, color='r', label='Original') \n",
    "bar2 = plt.bar(ind + width, accuracy['over'], width, color='g', label='Over Sampled') \n",
    "bar3 = plt.bar(ind + width*2, accuracy['under'], width, color='b', label='Under Sampled')\n",
    "bar4 = plt.bar(ind + width*3, accuracy['pca'], width, color='deepskyblue', label='PCA') \n",
    "#bar5 = plt.bar(ind + width*4, accuracy['kpca'], width, color='mediumseagreen', label='Kernel PCA') \n",
    "\n",
    "\n",
    "plt.xlabel(\"Models\") \n",
    "plt.ylabel('Accuracy Score') \n",
    "plt.title(\"Accuracy Score for Imbalanced, Over and Under Sampled and PCA Reduced Data\") \n",
    "  \n",
    "plt.xticks(ind + width*1.5, ['Logistic Regression', 'XGBoost', 'Decision Tree']) \n",
    "plt.legend(loc='center left', bbox_to_anchor=(1, 0.5)) \n",
    "plt.show() "
   ]
  },
  {
   "cell_type": "markdown",
   "id": "10745902",
   "metadata": {},
   "source": [
    "Although perhaps the least informative metric for imbalanced classification tasks, it is interesting to see that over sampling results in very similar (if not better) performances compared to the original data for both the XGBoost and Decision Tree models. This again indicates the potential benefits of over sampling data for imbalanced classification tasks. Interestingly, the PCA model performs comparably well in the Decision Tree model. Unsurprisingly, the under sampled technique performs the worst, which is to be expected given the significant loss of data resulting from this technique. "
   ]
  },
  {
   "cell_type": "markdown",
   "id": "ec694a17",
   "metadata": {},
   "source": [
    "<a id=\"18\"></a>\n",
    "\n",
    "## Conclusion"
   ]
  },
  {
   "cell_type": "markdown",
   "id": "9a4c0f1a",
   "metadata": {},
   "source": [
    "In conclusion, I performed binary classification on the \"Type\" category for Logistic Regression, XGBoost Classification and Decision Tree Classification models. I trained my models using 5 fold cross validation, maximising hyperparameters on the F1 macro score. I explored the impact of different sampling and dimensionality reduction techniques and compared the results for the F1 macro score, ROC AUC score and Accuracy. In all, I think using the raw data results in the best performances, however there are takeaways from the results. The key being over sampling can be effective for improving imbalanced classification tasks.\n",
    "\n",
    "Thank you for taking the time to read my work for this task. I have very much enjoyed it and look forward to hearing your feedback and where improvements can be made. \n",
    "\n",
    "Kind regards, \n",
    "\n",
    "Tom"
   ]
  }
 ],
 "metadata": {
  "kernelspec": {
   "display_name": "Python 3 (ipykernel)",
   "language": "python",
   "name": "python3"
  },
  "language_info": {
   "codemirror_mode": {
    "name": "ipython",
    "version": 3
   },
   "file_extension": ".py",
   "mimetype": "text/x-python",
   "name": "python",
   "nbconvert_exporter": "python",
   "pygments_lexer": "ipython3",
   "version": "3.10.12"
  }
 },
 "nbformat": 4,
 "nbformat_minor": 5
}
